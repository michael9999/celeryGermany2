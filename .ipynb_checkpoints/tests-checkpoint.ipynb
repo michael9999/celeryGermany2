{
 "cells": [
  {
   "cell_type": "code",
   "execution_count": 2,
   "id": "6d16a0fe-6a8c-49fc-be37-e4546cd072ba",
   "metadata": {},
   "outputs": [],
   "source": [
    "test = [{\"id\":1,\"name\":\"new test\",\"action\":\"Live\",\"job\":{\"id\":3,\"status\":\"Live\",\"job_title\":\"Assistant DLA Piper\",\"target_company\":\"1\",\"notes\":\"notes\",\"company\":\"DLA Piper\",\"published_at\":\"2021-04-30T19:40:47.258Z\",\"created_at\":\"2021-04-30T19:40:08.259Z\",\"updated_at\":\"2021-04-30T19:40:47.284Z\"},\"firms\":\"frenchlawfirm\",\"searchterms\":\"finance\",\"notes\":\"notes\",\"location\":\"Paris\",\"nbpages\":\"2\",\"category\":\"category\",\"minpoints\":0,\"variablepoints\":110,\"firmpoints\":15,\"languagepoints\":15,\"published_at\":\"2021-05-01T19:30:21.375Z\",\"created_at\":\"2021-05-01T19:30:18.907Z\",\"updated_at\":\"2023-03-30T11:47:26.274Z\",\"yearsexp\":\"hello\",\"locationpoints\":\"hello\",\"jobtitles\":\"hello\",\"jobtitlepoints\":\"hello\"}]\n"
   ]
  },
  {
   "cell_type": "code",
   "execution_count": 10,
   "id": "b267b132-a952-4ec6-bd72-0398640f5858",
   "metadata": {},
   "outputs": [
    {
     "name": "stdout",
     "output_type": "stream",
     "text": [
      "3\n"
     ]
    }
   ],
   "source": [
    "for record in test[0]:\n",
    "    #print(record)\n",
    "    #if 'job' in record:\n",
    "    if record == \"job\": \n",
    "        print(test[0][record]['id'])"
   ]
  },
  {
   "cell_type": "code",
   "execution_count": 16,
   "id": "c0880e5e-0f97-4798-8ea3-a60e7388c727",
   "metadata": {},
   "outputs": [
    {
     "name": "stdout",
     "output_type": "stream",
     "text": [
      "n\n"
     ]
    }
   ],
   "source": [
    "test = \"https://fr.linkedin.com/in/karinedisdiermikus/en\"\n",
    "\n",
    "lastChar = test[len(test)-1]\n",
    "print(lastChar)"
   ]
  },
  {
   "cell_type": "code",
   "execution_count": 17,
   "id": "b5f45f54-a17c-48e1-93b3-a48a6d8c8414",
   "metadata": {},
   "outputs": [
    {
     "name": "stdout",
     "output_type": "stream",
     "text": [
      "ADD /\n",
      "https://fr.linkedin.com/in/karinedisdiermikus/en/\n"
     ]
    }
   ],
   "source": [
    "lastChar = test[len(test)-1]\n",
    "if lastChar !=\"/\":\n",
    "    print(\"ADD /\")\n",
    "    test = test + \"/\"\n",
    "    print(test)"
   ]
  },
  {
   "cell_type": "code",
   "execution_count": 18,
   "id": "c9fd2187-ff53-43ee-9a48-3db20975f9e5",
   "metadata": {},
   "outputs": [
    {
     "name": "stdout",
     "output_type": "stream",
     "text": [
      "Count of / in GeeksforGeeks is : 5\n"
     ]
    }
   ],
   "source": [
    "test_str = \"https://fr.linkedin.com/in/karinedisdiermikus/en\"\n",
    " \n",
    "# using naive method to get count\n",
    "# counting e\n",
    "count = 0\n",
    " \n",
    "for i in test_str:\n",
    "    if i == '/':\n",
    "        count = count + 1\n",
    " \n",
    "# printing result\n",
    "print (\"Count of / in GeeksforGeeks is : \"\n",
    "                            + str(count))"
   ]
  },
  {
   "cell_type": "code",
   "execution_count": 22,
   "id": "14641a6d-ea70-4c97-a72a-3d59aee0f17b",
   "metadata": {},
   "outputs": [
    {
     "name": "stdout",
     "output_type": "stream",
     "text": [
      "\n"
     ]
    }
   ],
   "source": [
    "text = '...go'\n",
    "sep = '...'\n",
    "stripped = text.split(sep, 1)[0]\n",
    "print(stripped)"
   ]
  },
  {
   "cell_type": "code",
   "execution_count": 29,
   "id": "8fd3b6f9-3202-49cf-a33c-0e08c3e568eb",
   "metadata": {},
   "outputs": [
    {
     "name": "stdout",
     "output_type": "stream",
     "text": [
      "The original string is : https://fr.linkedin.com/in/karinedisdiermikus/en\n",
      "The extracted string : ['https:', '', 'fr.linkedin.com', 'in', 'karinedisdiermikus', 'en']\n"
     ]
    }
   ],
   "source": [
    "# Python3 code to demonstrate working of\n",
    "# Extract String after Nth occurrence of K character\n",
    "# Using split()\n",
    " \n",
    "# initializing string\n",
    "test_str = 'https://fr.linkedin.com/in/karinedisdiermikus/en'\n",
    " \n",
    "# printing original string\n",
    "print(\"The original string is : \" + str(test_str))\n",
    " \n",
    "# initializing K\n",
    "K = \"/\"\n",
    " \n",
    "# initializing N\n",
    "N = 5\n",
    " \n",
    "# using split() to perform required string split\n",
    "# \"-1\" to extract required part\n",
    "# res = test_str.split(K, N)[-1]\n",
    "#res = test_str.split(K, N)[0]\n",
    "\n",
    "res = test_str.split(K, N)\n",
    " \n",
    "# printing result\n",
    "print(\"The extracted string : \" + str(res))"
   ]
  },
  {
   "cell_type": "code",
   "execution_count": 35,
   "id": "bef4731e-3550-4eca-a7a2-5966e8197bd1",
   "metadata": {},
   "outputs": [
    {
     "name": "stdout",
     "output_type": "stream",
     "text": [
      "test.zip.zy\n",
      "test.zip\n"
     ]
    }
   ],
   "source": [
    "s = 'test.zip.zyz'\n",
    "s = s[:s.index('.zip')+7]\n",
    "print(s)\n",
    "\n",
    "import re\n",
    "s = re.match(r'^.*?\\.zip', s).group(0)\n",
    "print(s)"
   ]
  },
  {
   "cell_type": "code",
   "execution_count": 49,
   "id": "7943a058-4b25-4a18-a128-eb591dec1be0",
   "metadata": {},
   "outputs": [
    {
     "name": "stdout",
     "output_type": "stream",
     "text": [
      "4\n",
      "less than 4\n",
      "https://fr.linkedin.com/in/aur%C3%A9lie-souce-savary-8274b8105/\n"
     ]
    }
   ],
   "source": [
    "#a = \"https://fr.linkedin.com/in/karinedisdiermikus/en\"\n",
    "a = \"https://fr.linkedin.com/in/aur%C3%A9lie-souce-savary-8274b8105\"\n",
    "\n",
    "\n",
    "nb = a.count('/')\n",
    "print(nb)\n",
    "\n",
    "if nb ==4 or nb <4:\n",
    "    print(\"less than 4\")\n",
    "    b = \"/\".join(a.split(\"/\")[:5])\n",
    "    b = b + \"/\"\n",
    "    print(b)\n",
    "    \n",
    "else:\n",
    "    print(\"five or more /\")\n",
    "    b = \"/\".join(a.split(\"/\")[:5])\n",
    "    b = b + \"/\"\n",
    "    print(b)\n",
    "\n",
    "# count nb of \"/\"\n",
    "    # if 5, remove everything after it\n",
    "    # need to re-add the last \"/\"\n",
    "    \n",
    "    # if <5\n",
    "        # add \"/\" to string\n",
    "    \n",
    "#\".\".join(a.split(\".\")[:3])\n",
    "\n",
    "#################@\n",
    "\n",
    "#b = \"/\".join(a.split(\"/\")[:5])\n",
    "\n"
   ]
  },
  {
   "cell_type": "code",
   "execution_count": 51,
   "id": "3ef046f2-2de3-47e9-98d5-e49e3a7722d6",
   "metadata": {},
   "outputs": [
    {
     "name": "stdout",
     "output_type": "stream",
     "text": [
      "run\n"
     ]
    }
   ],
   "source": [
    "test = \"not set2\"\n",
    "\n",
    "if (test) and (test != \"not set\"):\n",
    "    print(\"run\")\n",
    "else:\n",
    "    print(\"don't run\")"
   ]
  },
  {
   "cell_type": "code",
   "execution_count": 92,
   "id": "9067207c-2e2f-4d9c-a6d2-2db36520df30",
   "metadata": {},
   "outputs": [],
   "source": [
    "from addStrapi import *\n",
    "from searchStrapiApi import *\n",
    "from updateStrapi import *"
   ]
  },
  {
   "cell_type": "code",
   "execution_count": 67,
   "id": "cf4c20f8-a81e-4d3a-abb8-52d077361317",
   "metadata": {},
   "outputs": [],
   "source": [
    "testUrl = \"towns\"\n",
    "query = \"?_where[parentcity]=\"\n",
    "searchVal = \"Paris\"\n",
    "testTrigger = strapiApi(testUrl, query, searchVal)\n",
    "allTowns = []\n",
    "\n",
    "for record_variables in testTrigger:\n",
    "\n",
    "    if 'townname' in record_variables:\n",
    "    # list_variables.append(test_variables[0][record_variables])\n",
    "        allTowns.append(record_variables['townname'])\n",
    "    # print(\"printing each SEARCH VARIABLE item\")\n",
    "    #print(list_variables)\n",
    "\n",
    "\n",
    "            \n",
    "    else:\n",
    "        print(\"don't run\")"
   ]
  },
  {
   "cell_type": "code",
   "execution_count": 68,
   "id": "9f12cc58-0467-44bf-9a0a-6b5cbfbc212d",
   "metadata": {},
   "outputs": [
    {
     "name": "stdout",
     "output_type": "stream",
     "text": [
      "['Versailles', 'Greater Paris Metropolitan Region', 'Paris']\n"
     ]
    }
   ],
   "source": [
    "print(allTowns)"
   ]
  },
  {
   "cell_type": "code",
   "execution_count": 71,
   "id": "5702a59a-e2e2-46b3-b015-1db551c84f91",
   "metadata": {},
   "outputs": [
    {
     "name": "stdout",
     "output_type": "stream",
     "text": [
      "enough points scored\n"
     ]
    }
   ],
   "source": [
    "stageOnePoints = 4\n",
    "if (stageOnePoints == 2) or (stageOnePoints > 2):\n",
    "    print(\"enough points scored\")\n",
    "else:\n",
    "    print(\"not enough points scored\")"
   ]
  },
  {
   "cell_type": "code",
   "execution_count": 77,
   "id": "58466085-db0e-42e2-89df-29bba25c4d25",
   "metadata": {},
   "outputs": [
    {
     "name": "stdout",
     "output_type": "stream",
     "text": [
      "292\n"
     ]
    }
   ],
   "source": [
    "new_application = {}\n",
    "new_application[\"status\"] = \"Send LI queued\"\n",
    "new_application[\"job\"] = 3\n",
    "new_application[\"candidate_name\"] = \"Me\"\n",
    "new_application[\"candid\"] = \"23\"\n",
    "\n",
    "sUrl = \"applications/\"\n",
    "#\"stage\": \"to contact\",\n",
    "#\"job\":3,\n",
    "#\"status\":\"Send LI queued\",\n",
    "#\"name\":\"Me\",\n",
    "#\"candid\":\"22\"\n",
    "\n",
    "testAdd = addStrapiApi(sUrl, new_application)\n",
    "\n",
    "print(testAdd[\"id\"])"
   ]
  },
  {
   "cell_type": "code",
   "execution_count": 78,
   "id": "2e7e520f-6535-482a-a6ac-b7db1fd131fb",
   "metadata": {},
   "outputs": [
    {
     "name": "stdout",
     "output_type": "stream",
     "text": [
      "{'id': 292, 'stage': None, 'date_contacted': None, 'published_at': '2023-04-08T12:54:39.109Z', 'created_at': '2023-04-08T12:54:39.114Z', 'updated_at': '2023-04-08T12:54:39.132Z', 'job': {'id': 3, 'status': 'Live', 'job_title': 'Assistant DLA Piper', 'target_company': None, 'notes': 'notes', 'company': 'DLA Piper', 'published_at': '2021-04-30T19:40:47.258Z', 'created_at': '2021-04-30T19:40:08.259Z', 'updated_at': '2021-04-30T19:40:47.284Z'}, 'candidate': None, 'candidate_name': 'Me', 'status': 'Send LI queued', 'candid': '23'}\n"
     ]
    }
   ],
   "source": [
    "print(testAdd)"
   ]
  },
  {
   "cell_type": "code",
   "execution_count": 89,
   "id": "c83b7839-3e9a-411f-8d59-b80fbe7999e2",
   "metadata": {},
   "outputs": [
    {
     "name": "stdout",
     "output_type": "stream",
     "text": [
      "{'id': 712, 'name': 'Thierry MARECHAL', 'date_contacted': None, 'job_title': 'Assistant bilingue', 'profile_type': 'all, Assistant bilingue', 'li_url': 'https://fr.linkedin.com/in/thierry-marechal-294713162', 'email': None, 'time_in_post': 0, 'years_exp': 24, 'company': 'DLA Piper France', 'firstname': 'Thierry', 'surname': 'MARECHAL', 'salary_expectations': None, 'telephone': None, 'to_do_date': None, 'date_added': '2023-04-08', 'notes': 'Assistant bilingue', 'personal_email': None, 'location': 'Paris', 'test': None, 'published_at': '2023-04-08T10:54:48.935Z', 'created_at': '2023-04-08T10:54:48.945Z', 'updated_at': '2023-04-08T13:27:27.249Z', 'internal_points': 2, 'action': None, 'sector': None, 'status': None, 'mobile_phone': None, 'json': {'searches': ['auto']}, 'optimisedsearch': \" , Assistant bilingue, Thierry MARECHAL, DLA Piper France, Assistant bilingue, Assistant bilingue, not given, DLA Piper France, Missions d'intérim : Réceptionniste polyvalent, Not provided, TECHNOPOLE D'ART / HOLIDAY INN / RESIDENCE PIERRE & VACANCES, Assistant juridique, Not provided, HOUDART & Associés, Clerc d'avocats, Not provided, HOCHE AVOCATS, Clerc d'avocat, Not provided, NASICA FABIENNE, Assistant juridique, Not provided, NASICA FABIENNE, Secrétaire juridique, Not provided, NASICA FABIENNE, Réceptionniste d'hôtel (Chef de réception), Not provided, Holiday Inn, Veilleur de nuit week-end, Not provided, Holiday Inn, ENADEP 3° cycle, Not provided, 1er, 2nd et 3ème cycles - Assistant juridique / Clerc, Lycée d'Hôtellerie et de Tourisme de Blois, Not provided, BTS Restauration - BTH/CAP Restaurant - BEP/CAP Cuisine - - Hôtellerie / Restauration\", 'optimisestatus': 'DONE', 'joblist': {'jobs': [3]}, 'internalsearch': None, 'internalsearchjson': {'internalsearchjson': ['0']}, 'applications': [{'id': 292, 'stage': None, 'date_contacted': None, 'published_at': '2023-04-08T12:54:39.109Z', 'created_at': '2023-04-08T12:54:39.114Z', 'updated_at': '2023-04-08T12:54:39.132Z', 'job': 3, 'candidate': None, 'candidate_name': 'Me', 'status': 'Send LI queued', 'candid': '23'}], 'educations': [{'id': 1386, 'school_name': 'ENADEP 3° cycle', 'qualification_name': '1er, 2nd et 3ème cycles - Assistant juridique / Clerc', 'start_date': None, 'end_date': None, 'description': 'Not provided', 'published_at': '2023-04-08T10:54:49.803Z', 'created_at': '2023-04-08T10:54:49.808Z', 'updated_at': '2023-04-08T10:54:49.808Z', 'candidate': None, 'candidate_name': None, 'start': '1/1/1997', 'end': '12/2003', 'candid': None}, {'id': 1387, 'school_name': \"Lycée d'Hôtellerie et de Tourisme de Blois\", 'qualification_name': 'BTS Restauration - BTH/CAP Restaurant - BEP/CAP Cuisine - - Hôtellerie / Restauration', 'start_date': None, 'end_date': None, 'description': 'Not provided', 'published_at': '2023-04-08T10:54:49.941Z', 'created_at': '2023-04-08T10:54:49.945Z', 'updated_at': '2023-04-08T10:54:49.945Z', 'candidate': None, 'candidate_name': None, 'start': '1/1/1987', 'end': '12/1993', 'candid': None}], 'skills': [], 'work_histories': [{'id': 2554, 'company_name': 'DLA Piper France', 'start_date': None, 'end_date': None, 'jobtitle': 'Assistant bilingue', 'job_descriptions': 'not given', 'duration': None, 'locations': 'Paris France', 'published_at': '2023-04-08T10:54:49.018Z', 'created_at': '2023-04-08T10:54:49.021Z', 'updated_at': '2023-04-08T10:54:49.021Z', 'candidate_name': None, 'start': '1/11/2022', 'end': 'Current', 'candid': None, 'type': 'validated position'}, {'id': 2555, 'company_name': \"TECHNOPOLE D'ART / HOLIDAY INN / RESIDENCE PIERRE & VACANCES\", 'start_date': None, 'end_date': None, 'jobtitle': \"Missions d'intérim : Réceptionniste polyvalent\", 'job_descriptions': 'Not provided', 'duration': 1.2, 'locations': 'Aix-en-Provence / Marseille', 'published_at': '2023-04-08T10:54:49.104Z', 'created_at': '2023-04-08T10:54:49.108Z', 'updated_at': '2023-04-08T10:54:49.108Z', 'candidate_name': None, 'start': '1/9/1995', 'end': '12/1996', 'candid': None, 'type': 'validated position'}, {'id': 2556, 'company_name': 'HOUDART & Associés', 'start_date': None, 'end_date': None, 'jobtitle': 'Assistant juridique', 'job_descriptions': 'Not provided', 'duration': 0.1, 'locations': 'Ville de Paris, Île-de-France, France', 'published_at': '2023-04-08T10:54:49.194Z', 'created_at': '2023-04-08T10:54:49.197Z', 'updated_at': '2023-04-08T10:54:49.197Z', 'candidate_name': None, 'start': '1/11/2021', 'end': '12/2021', 'candid': None, 'type': 'validated position'}, {'id': 2557, 'company_name': 'HOCHE AVOCATS', 'start_date': None, 'end_date': None, 'jobtitle': \"Clerc d'avocats\", 'job_descriptions': 'Not provided', 'duration': 1.9, 'locations': 'Ville de Paris, Île-de-France, France', 'published_at': '2023-04-08T10:54:49.282Z', 'created_at': '2023-04-08T10:54:49.288Z', 'updated_at': '2023-04-08T10:54:49.288Z', 'candidate_name': None, 'start': '1/7/2019', 'end': '6/2021', 'candid': None, 'type': 'validated position'}, {'id': 2558, 'company_name': 'NASICA FABIENNE', 'start_date': None, 'end_date': None, 'jobtitle': \"Clerc d'avocat\", 'job_descriptions': 'Not provided', 'duration': 13.8, 'locations': 'Ville de Paris, Île-de-France, France', 'published_at': '2023-04-08T10:54:49.378Z', 'created_at': '2023-04-08T10:54:49.384Z', 'updated_at': '2023-04-08T10:54:49.384Z', 'candidate_name': None, 'start': '1/1/2005', 'end': '10/2018', 'candid': None, 'type': 'validated position'}, {'id': 2559, 'company_name': 'NASICA FABIENNE', 'start_date': None, 'end_date': None, 'jobtitle': 'Assistant juridique', 'job_descriptions': 'Not provided', 'duration': 3.5, 'locations': 'Ville de Paris, Île-de-France, France', 'published_at': '2023-04-08T10:54:49.471Z', 'created_at': '2023-04-08T10:54:49.474Z', 'updated_at': '2023-04-08T10:54:49.474Z', 'candidate_name': None, 'start': '1/6/2001', 'end': '12/2004', 'candid': None, 'type': 'validated position'}, {'id': 2560, 'company_name': 'NASICA FABIENNE', 'start_date': None, 'end_date': None, 'jobtitle': 'Secrétaire juridique', 'job_descriptions': 'Not provided', 'duration': 4.2, 'locations': 'Ville de Paris, Île-de-France, France', 'published_at': '2023-04-08T10:54:49.518Z', 'created_at': '2023-04-08T10:54:49.521Z', 'updated_at': '2023-04-08T10:54:49.521Z', 'candidate_name': None, 'start': '1/2/1997', 'end': '5/2001', 'candid': None, 'type': 'validated position'}, {'id': 2561, 'company_name': 'Holiday Inn', 'start_date': None, 'end_date': None, 'jobtitle': \"Réceptionniste d'hôtel (Chef de réception)\", 'job_descriptions': 'Not provided', 'duration': 1.8, 'locations': 'Aix-En-Provence, France', 'published_at': '2023-04-08T10:54:49.621Z', 'created_at': '2023-04-08T10:54:49.624Z', 'updated_at': '2023-04-08T10:54:49.624Z', 'candidate_name': None, 'start': '1/10/1993', 'end': '8/1995', 'candid': None, 'type': 'validated position'}, {'id': 2562, 'company_name': 'Holiday Inn', 'start_date': None, 'end_date': None, 'jobtitle': 'Veilleur de nuit week-end', 'job_descriptions': 'Not provided', 'duration': 1.1, 'locations': 'Orléans (45)', 'published_at': '2023-04-08T10:54:49.715Z', 'created_at': '2023-04-08T10:54:49.720Z', 'updated_at': '2023-04-08T10:54:49.720Z', 'candidate_name': None, 'start': '1/9/1992', 'end': '10/1993', 'candid': None, 'type': 'validated position'}], 'jobs': [{'id': 3, 'status': 'Live', 'job_title': 'Assistant DLA Piper', 'target_company': None, 'notes': 'notes', 'company': 'DLA Piper', 'published_at': '2021-04-30T19:40:47.258Z', 'created_at': '2021-04-30T19:40:08.259Z', 'updated_at': '2021-04-30T19:40:47.284Z'}], 'locations': [], 'searches': [], 'groups': [], 'cand_languages': []}\n"
     ]
    }
   ],
   "source": [
    "# UPDATE CANDIDATE\n",
    "\n",
    "\n",
    "# what do I want to update on candidates \n",
    "\n",
    "# Joblist - add new job id\n",
    "#{\n",
    "#  \"jobs\": [\n",
    "#    0\n",
    "#  ]\n",
    "#}\n",
    "\n",
    "# -2) Internal_points (integer)\n",
    "\n",
    "# -3) Applications (array)\n",
    "\n",
    "new_jobs = {\"jobs\": [3]}\n",
    "\n",
    "payload = {\"joblist\": new_jobs, \"internal_points\":2, \n",
    "\"applications\":[292], \"jobs\":[3]}\n",
    "\n",
    "sUrl = \"candidates/\"\n",
    "cand = \"712\"\n",
    "\n",
    "finalCandData = updateStrapiApi_PC(sUrl, cand, payload)\n",
    "print(finalCandData)"
   ]
  },
  {
   "cell_type": "code",
   "execution_count": null,
   "id": "8cda78bc-975f-4d95-82a7-91f6e4dc4a05",
   "metadata": {},
   "outputs": [],
   "source": [
    "# Update candidate, should have any jobs at this stage so just update with new job\n",
    "\n",
    "\n",
    "payload = {\"educations\": educationIds, \"work_histories\": jobIds, \n",
    "\"cand_languages\": languageIds, \"skills\":[33994]}\n",
    "\n",
    "#sUrl = \"https://strapi-1oni.onrender.com/candidates/\"\n",
    "\n",
    "sUrl = \"candidates/\"    \n",
    "\n",
    "cand = newid\n",
    "\n",
    "finalCandData = updateStrapiApi_PC(sUrl, cand, payload)"
   ]
  },
  {
   "cell_type": "code",
   "execution_count": 86,
   "id": "227cd569-be4c-4591-8471-41ccbee92d0b",
   "metadata": {},
   "outputs": [
    {
     "name": "stdout",
     "output_type": "stream",
     "text": [
      "FOUND\n",
      "[33, 3]\n"
     ]
    }
   ],
   "source": [
    "# check if there could be confusion between 1, and 11\n",
    "\n",
    "test = []\n",
    "test.append(33)\n",
    "test.append(3)\n",
    "if 3 in test:\n",
    "    print(\"FOUND\")\n",
    "    print(test)\n",
    "else:\n",
    "    print(\"not found\")"
   ]
  },
  {
   "cell_type": "code",
   "execution_count": 81,
   "id": "2971fd8d-363e-40c4-85e9-0b950302af8c",
   "metadata": {},
   "outputs": [
    {
     "name": "stdout",
     "output_type": "stream",
     "text": [
      "[33]\n"
     ]
    }
   ],
   "source": [
    "print(test)"
   ]
  },
  {
   "cell_type": "code",
   "execution_count": 100,
   "id": "07d5d9a9-8109-4de9-887e-ba773d55bf3d",
   "metadata": {},
   "outputs": [
    {
     "name": "stdout",
     "output_type": "stream",
     "text": [
      "[{'id': 1, 'name': 'new test', 'action': 'Running', 'job': {'id': 3, 'status': 'Live', 'job_title': 'Assistant DLA Piper', 'target_company': None, 'notes': 'notes', 'company': 'DLA Piper', 'published_at': '2021-04-30T19:40:47.258Z', 'created_at': '2021-04-30T19:40:08.259Z', 'updated_at': '2021-04-30T19:40:47.284Z'}, 'firms': 'frenchlawfirm', 'searchterms': 'finance', 'notes': 'notes', 'location': 'Paris', 'nbpages': '1', 'category': 'category', 'minpoints': 0, 'variablepoints': 110, 'firmpoints': 15, 'languagepoints': 15, 'published_at': '2021-05-01T19:30:21.375Z', 'created_at': '2021-05-01T19:30:18.907Z', 'updated_at': '2023-04-03T16:13:43.594Z', 'yearsexp': None, 'locationpoints': None, 'jobtitles': 'bilingue', 'jobtitlepoints': 10}]\n"
     ]
    }
   ],
   "source": [
    "testUrl = \"control-panels\"\n",
    "    #query = \"?_where[action]=\"\n",
    "    #searchVal = \"Live\"\n",
    "query = \"?_where[id]=\"\n",
    "    # this is the search name\n",
    "searchVal = \"1\"\n",
    "\n",
    "test = strapiApi(testUrl, query, searchVal)\n",
    "\n",
    "print(test)\n",
    "\n",
    "\n",
    "        \n",
    "    "
   ]
  },
  {
   "cell_type": "code",
   "execution_count": 107,
   "id": "fa8e3f52-15f6-4ed8-873f-1a8878319cc3",
   "metadata": {},
   "outputs": [
    {
     "name": "stdout",
     "output_type": "stream",
     "text": [
      "id is present\n",
      "None\n",
      "10\n"
     ]
    }
   ],
   "source": [
    "for record in test[0]:\n",
    "    \n",
    "    if record == 'id':\n",
    "        \n",
    "        print(\"id is present\")\n",
    "        \n",
    "    if 'jobtitlepoints' in record:\n",
    "        \n",
    "        print(test[0]['jobtitlepoints'])\n",
    "        \n",
    "    if 'locationpoints' in record:\n",
    "        \n",
    "        print(test[0]['locationpoints'])\n",
    "        \n",
    "        if test[0]['locationpoints'] == None:\n",
    "            \n",
    "            print(\"no points\")"
   ]
  },
  {
   "cell_type": "code",
   "execution_count": null,
   "id": "04f3b790-d91f-4286-8626-91cfd402cca0",
   "metadata": {},
   "outputs": [],
   "source": []
  }
 ],
 "metadata": {
  "kernelspec": {
   "display_name": "Python 3",
   "language": "python",
   "name": "python3"
  },
  "language_info": {
   "codemirror_mode": {
    "name": "ipython",
    "version": 3
   },
   "file_extension": ".py",
   "mimetype": "text/x-python",
   "name": "python",
   "nbconvert_exporter": "python",
   "pygments_lexer": "ipython3",
   "version": "3.9.5"
  }
 },
 "nbformat": 4,
 "nbformat_minor": 5
}

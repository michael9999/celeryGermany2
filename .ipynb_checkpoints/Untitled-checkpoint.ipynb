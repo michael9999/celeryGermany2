{
 "cells": [
  {
   "cell_type": "code",
   "execution_count": 19,
   "id": "4873fba3-4337-4a2d-946f-17635dd0d5fe",
   "metadata": {},
   "outputs": [],
   "source": [
    "#pts=0\n",
    "#pts2=\"\"\n",
    "# def checkForVars(jobtitlesTS, firmsTS, creatOptSearchField, currJtitle, currFirm, allExperiences, searchName, list_variables, FIRMList, Language, searchID, jobtitles, targetLocation, targetyrsexp, currLocation, currYrsExp, cand, jobID, varPts, firmPts, languagePts, jobPts, locPts, candName):\n",
    "#currLocation = \"Paris\"\n",
    "currLocation = \"fqdsq\"\n",
    "currJtitle = \"fdf\"\n",
    "jobPts =\"\", locPts =\"\"\n"
   ]
  },
  {
   "cell_type": "code",
   "execution_count": 21,
   "id": "f5243899-546a-486a-b48e-745065a3e718",
   "metadata": {},
   "outputs": [],
   "source": [
    "# pts are triggers\n",
    "#jobPts = \"\"\n",
    "jobPts = 10\n",
    "locPts =\"\"\n",
    "locPts = 10\n"
   ]
  },
  {
   "cell_type": "code",
   "execution_count": 22,
   "id": "0eef4eb0-500e-4301-94af-bd600f085721",
   "metadata": {},
   "outputs": [
    {
     "name": "stdout",
     "output_type": "stream",
     "text": [
      "jobPts NOT set\n"
     ]
    }
   ],
   "source": [
    "#if ('currJtitle' in locals() or currJtitle) and ('currLocation' in locals() or currLocation):\n",
    "if (jobPts):\n",
    "    print(\"jobPts set\")\n",
    "else: \n",
    "    print(\"jobPts NOT set\")"
   ]
  },
  {
   "cell_type": "code",
   "execution_count": 20,
   "id": "21301ff1-3c1d-4afd-acc9-ee05668591b0",
   "metadata": {},
   "outputs": [
    {
     "name": "stdout",
     "output_type": "stream",
     "text": [
      "jobtitle & location set\n"
     ]
    }
   ],
   "source": [
    "#if ('currJtitle' in locals() or currJtitle) and ('currLocation' in locals() or currLocation):\n",
    "if (currJtitle) and (currLocation):\n",
    "    print(\"jobtitle & location set\")\n",
    "else: \n",
    "    print(\"jobtitle & location NOT set\")"
   ]
  },
  {
   "cell_type": "code",
   "execution_count": 4,
   "id": "740a5434-c125-4f8d-bcd4-f0ae871454fd",
   "metadata": {},
   "outputs": [
    {
     "name": "stdout",
     "output_type": "stream",
     "text": [
      "location set\n"
     ]
    }
   ],
   "source": [
    "if 'currLocation' in locals() or currLocation:\n",
    "    print(\"location set - run check location\")\n",
    "else:\n",
    "    print(\"location NOT set\")\n",
    "    testPoints1 = 0"
   ]
  },
  {
   "cell_type": "code",
   "execution_count": 27,
   "id": "eef2eb4e-eba2-4404-9092-747d803acd1f",
   "metadata": {},
   "outputs": [
    {
     "name": "stdout",
     "output_type": "stream",
     "text": [
      "pts not set\n"
     ]
    }
   ],
   "source": [
    "if 'pts2' not in locals() or not pts2:\n",
    "    \n",
    "    print(\"pts not set\")\n",
    "    \n",
    "else:\n",
    "    \n",
    "    print(\"pts is set\")"
   ]
  },
  {
   "cell_type": "code",
   "execution_count": 7,
   "id": "2e4ef9ec-b424-46a7-9dc0-8df307528971",
   "metadata": {},
   "outputs": [],
   "source": [
    "def checkForVars(jobtitlesTS, firmsTS, creatOptSearchField, currJtitle, currFirm, allExperiences, searchName, list_variables, FIRMList, Language, searchID, jobtitles, targetLocation, targetyrsexp, currLocation, currYrsExp, cand, jobID, varPts, firmPts, languagePts, jobPts, locPts, candName):\n",
    "\n",
    "    #(jobtitlesTS, firmsTS, creatOptSearchField, currJtitle, currFirm)\n",
    "\n",
    "    print(\"checkForVars) check : \") # cand # jobID\n",
    "\n",
    "    print(\"checkForVars) JOB ID : \", jobID)\n",
    "\n",
    "    print(\"checkForVars) currJtitle (cand data) : \",  currJtitle)\n",
    "\n",
    "   \n",
    "\n",
    "    print(\"checkForVars) jobtitles (search data) : \",  jobtitles)\n",
    "\n",
    "    print(\"checkForVars) target location (search data) : \",  targetLocation) # currLocation\n",
    "\n",
    "\n",
    "    if (currJtitle) and (jobtitles):\n",
    "\n",
    "        testPoints1 = \"test\"\n",
    "        \n",
    "    else: \n",
    "        print(\"checkForVars) -£££££££££££ jobtitle and list of titles not found\")\n",
    "        testPoints1 = 0\n",
    "\n",
    "\n",
    "    # 2) #location = (text) IMPORTANT\n",
    "        # 1 pt is added\n",
    "\n",
    "    if (currLocation) and (targetLocation):\n",
    "\n",
    "        testPoints2 = \"test1\"\n",
    "\n",
    "    else: \n",
    "        #print(\"checkForVars) -£££££££££££ currentlocation and list of locations not found\")\n",
    "        testPoints2 = 0\n",
    "\n",
    "    # ! check that jobtitle and location have been found \n",
    "    \n",
    "    stageOnePoints = testPoints1 + testPoints2\n",
    "\n",
    "    if (stageOnePoints == 2) or (stageOnePoints > 2):\n",
    "\n",
    "        # continue with other checks\n",
    "        # add candidate to job / search list\n",
    "        print(\"checkForVars) location and jobtitle matched\")\n",
    "\n",
    "    \n",
    "        # 3) keyword search - list_variables, creatOptSearchField\n",
    "\n",
    "        if (list_variables) and (creatOptSearchField):\n",
    "\n",
    "            testPoints3 = applyCheck(list_variables, creatOptSearchField, varPts)\n",
    "\n",
    "        else: \n",
    "            #print(\"checkForVars) -£££££££££££ list_variables and creatOptSearchField not found\")\n",
    "            testPoints3 = 0\n",
    "\n",
    "        # 4) firm search - best to search roll-up field (creatOptSearchField) instead of currFirm\n",
    "\n",
    "        if (FIRMList) and (creatOptSearchField):\n",
    "\n",
    "            testPoints4 = applyCheck(FIRMList, creatOptSearchField, firmPts)\n",
    "\n",
    "        else: \n",
    "            #print(\"checkForVars) -£££££££££££ list_variables and currFirm not found\")\n",
    "            testPoints4 = 0\n",
    "\n",
    "        # 5) yrsExp \n",
    "\n",
    "        if (targetyrsexp) and (currYrsExp):\n",
    "\n",
    "            testPoints5 = \"go\"\n",
    "\n",
    "\n",
    "        else:\n",
    "            #print(\"checkForVars) - no years experience found\")\n",
    "            testPoints5 = 0\n",
    "\n",
    "        # 6) if nb of points is at least 2 then add candidate to job search\n",
    "\n",
    "        finalPoints = (stageOnePoints + testPoints3 + testPoints4 + testPoints5)\n",
    "\n",
    "        if (finalPoints > 2) or (finalPoints == 2):\n",
    "\n",
    "            print(\"checkForVars) points attained, add to joblist\") # puts candidate in list of cands for job\n",
    "\n",
    "            # cand = candidate ID\n",
    "            # jobID = job ID \n",
    "\n",
    "            # get current job name and id\n",
    "            \n",
    "\n",
    "\n",
    "            # add candidate to job list \n",
    "\n",
    "            #addCand = addToJobList(cand, searchID, jobID, finalPoints, candName)\n",
    "\n",
    "        else:\n",
    "            print(\"checkForVars) points attained) not enough points, do nothing\")    \n",
    "\n",
    "\n",
    "    \n",
    "    else: \n",
    "        # didn't meet criteria, return\n",
    "        print(\"checkForVars) didn't meet criteria\")\n",
    "\n"
   ]
  },
  {
   "cell_type": "code",
   "execution_count": 12,
   "id": "279469b2-7586-48fa-b418-dadb4625f967",
   "metadata": {},
   "outputs": [
    {
     "ename": "NameError",
     "evalue": "name 'jobtitlesTS' is not defined",
     "output_type": "error",
     "traceback": [
      "\u001b[0;31m---------------------------------------------------------------------------\u001b[0m",
      "\u001b[0;31mNameError\u001b[0m                                 Traceback (most recent call last)",
      "\u001b[0;32m/var/folders/jf/00982zxx23z8t6fw7591nt3r0000gn/T/ipykernel_8701/1253367653.py\u001b[0m in \u001b[0;36m<module>\u001b[0;34m\u001b[0m\n\u001b[0;32m----> 1\u001b[0;31m \u001b[0mtest\u001b[0m \u001b[0;34m=\u001b[0m \u001b[0mcheckForVars\u001b[0m\u001b[0;34m(\u001b[0m\u001b[0mjobtitlesTS\u001b[0m\u001b[0;34m,\u001b[0m \u001b[0mfirmsTS\u001b[0m\u001b[0;34m,\u001b[0m \u001b[0mcreatOptSearchField\u001b[0m\u001b[0;34m,\u001b[0m \u001b[0mcurrJtitle\u001b[0m\u001b[0;34m,\u001b[0m \u001b[0mcurrFirm\u001b[0m\u001b[0;34m,\u001b[0m \u001b[0mallExperiences\u001b[0m\u001b[0;34m,\u001b[0m \u001b[0msearchName\u001b[0m\u001b[0;34m,\u001b[0m \u001b[0mlist_variables\u001b[0m\u001b[0;34m,\u001b[0m \u001b[0mFIRMList\u001b[0m\u001b[0;34m,\u001b[0m \u001b[0mLanguage\u001b[0m\u001b[0;34m,\u001b[0m \u001b[0msearchID\u001b[0m\u001b[0;34m,\u001b[0m \u001b[0mjobtitles\u001b[0m\u001b[0;34m,\u001b[0m \u001b[0mtargetLocation\u001b[0m\u001b[0;34m,\u001b[0m \u001b[0mtargetyrsexp\u001b[0m\u001b[0;34m,\u001b[0m \u001b[0mcurrLocation\u001b[0m\u001b[0;34m,\u001b[0m \u001b[0mcurrYrsExp\u001b[0m\u001b[0;34m,\u001b[0m \u001b[0mcand\u001b[0m\u001b[0;34m,\u001b[0m \u001b[0mjobID\u001b[0m\u001b[0;34m,\u001b[0m \u001b[0mvarPts\u001b[0m\u001b[0;34m,\u001b[0m \u001b[0mfirmPts\u001b[0m\u001b[0;34m,\u001b[0m \u001b[0mlanguagePts\u001b[0m\u001b[0;34m,\u001b[0m \u001b[0mjobPts\u001b[0m\u001b[0;34m,\u001b[0m \u001b[0mlocPts\u001b[0m\u001b[0;34m,\u001b[0m \u001b[0mcandName\u001b[0m\u001b[0;34m)\u001b[0m\u001b[0;34m\u001b[0m\u001b[0;34m\u001b[0m\u001b[0m\n\u001b[0m\u001b[1;32m      2\u001b[0m \u001b[0;34m\u001b[0m\u001b[0m\n",
      "\u001b[0;31mNameError\u001b[0m: name 'jobtitlesTS' is not defined"
     ]
    }
   ],
   "source": [
    "test = checkForVars(jobtitlesTS, firmsTS, creatOptSearchField, currJtitle, currFirm, allExperiences, searchName, list_variables, FIRMList, Language, searchID, jobtitles, targetLocation, targetyrsexp, currLocation, currYrsExp, cand, jobID, varPts, firmPts, languagePts, jobPts, locPts, candName)\n",
    "\n"
   ]
  },
  {
   "cell_type": "code",
   "execution_count": null,
   "id": "320c5a24-79fb-4154-b726-e193a706931c",
   "metadata": {},
   "outputs": [],
   "source": []
  }
 ],
 "metadata": {
  "kernelspec": {
   "display_name": "Python 3 (ipykernel)",
   "language": "python",
   "name": "python3"
  },
  "language_info": {
   "codemirror_mode": {
    "name": "ipython",
    "version": 3
   },
   "file_extension": ".py",
   "mimetype": "text/x-python",
   "name": "python",
   "nbconvert_exporter": "python",
   "pygments_lexer": "ipython3",
   "version": "3.9.5"
  }
 },
 "nbformat": 4,
 "nbformat_minor": 5
}

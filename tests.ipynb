{
 "cells": [
  {
   "cell_type": "code",
   "execution_count": null,
   "id": "6d16a0fe-6a8c-49fc-be37-e4546cd072ba",
   "metadata": {},
   "outputs": [],
   "source": [
    "test = [{\"id\":1,\"name\":\"new test\",\"action\":\"Live\",\"job\":{\"id\":3,\"status\":\"Live\",\"job_title\":\"Assistant DLA Piper\",\"target_company\":\"1\",\"notes\":\"notes\",\"company\":\"DLA Piper\",\"published_at\":\"2021-04-30T19:40:47.258Z\",\"created_at\":\"2021-04-30T19:40:08.259Z\",\"updated_at\":\"2021-04-30T19:40:47.284Z\"},\"firms\":\"frenchlawfirm\",\"searchterms\":\"finance\",\"notes\":\"notes\",\"location\":\"Paris\",\"nbpages\":\"2\",\"category\":\"category\",\"minpoints\":0,\"variablepoints\":110,\"firmpoints\":15,\"languagepoints\":15,\"published_at\":\"2021-05-01T19:30:21.375Z\",\"created_at\":\"2021-05-01T19:30:18.907Z\",\"updated_at\":\"2023-03-30T11:47:26.274Z\",\"yearsexp\":\"hello\",\"locationpoints\":\"hello\",\"jobtitles\":\"hello\",\"jobtitlepoints\":\"hello\"}]\n"
   ]
  },
  {
   "cell_type": "code",
   "execution_count": null,
   "id": "b267b132-a952-4ec6-bd72-0398640f5858",
   "metadata": {},
   "outputs": [],
   "source": [
    "for record in test[0]:\n",
    "    #print(record)\n",
    "    #if 'job' in record:\n",
    "    if record == \"job\": \n",
    "        print(test[0][record]['id'])"
   ]
  },
  {
   "cell_type": "code",
   "execution_count": null,
   "id": "c0880e5e-0f97-4798-8ea3-a60e7388c727",
   "metadata": {},
   "outputs": [],
   "source": [
    "test = \"https://fr.linkedin.com/in/karinedisdiermikus/en\"\n",
    "\n",
    "lastChar = test[len(test)-1]\n",
    "print(lastChar)"
   ]
  },
  {
   "cell_type": "code",
   "execution_count": null,
   "id": "b5f45f54-a17c-48e1-93b3-a48a6d8c8414",
   "metadata": {},
   "outputs": [],
   "source": [
    "lastChar = test[len(test)-1]\n",
    "if lastChar !=\"/\":\n",
    "    print(\"ADD /\")\n",
    "    test = test + \"/\"\n",
    "    print(test)"
   ]
  },
  {
   "cell_type": "code",
   "execution_count": null,
   "id": "c9fd2187-ff53-43ee-9a48-3db20975f9e5",
   "metadata": {},
   "outputs": [],
   "source": [
    "test_str = \"https://fr.linkedin.com/in/karinedisdiermikus/en\"\n",
    " \n",
    "# using naive method to get count\n",
    "# counting e\n",
    "count = 0\n",
    " \n",
    "for i in test_str:\n",
    "    if i == '/':\n",
    "        count = count + 1\n",
    " \n",
    "# printing result\n",
    "print (\"Count of / in GeeksforGeeks is : \"\n",
    "                            + str(count))"
   ]
  },
  {
   "cell_type": "code",
   "execution_count": null,
   "id": "14641a6d-ea70-4c97-a72a-3d59aee0f17b",
   "metadata": {},
   "outputs": [],
   "source": [
    "text = '...go'\n",
    "sep = '...'\n",
    "stripped = text.split(sep, 1)[0]\n",
    "print(stripped)"
   ]
  },
  {
   "cell_type": "code",
   "execution_count": null,
   "id": "8fd3b6f9-3202-49cf-a33c-0e08c3e568eb",
   "metadata": {},
   "outputs": [],
   "source": [
    "# Python3 code to demonstrate working of\n",
    "# Extract String after Nth occurrence of K character\n",
    "# Using split()\n",
    " \n",
    "# initializing string\n",
    "test_str = 'https://fr.linkedin.com/in/karinedisdiermikus/en'\n",
    " \n",
    "# printing original string\n",
    "print(\"The original string is : \" + str(test_str))\n",
    " \n",
    "# initializing K\n",
    "K = \"/\"\n",
    " \n",
    "# initializing N\n",
    "N = 5\n",
    " \n",
    "# using split() to perform required string split\n",
    "# \"-1\" to extract required part\n",
    "# res = test_str.split(K, N)[-1]\n",
    "#res = test_str.split(K, N)[0]\n",
    "\n",
    "res = test_str.split(K, N)\n",
    " \n",
    "# printing result\n",
    "print(\"The extracted string : \" + str(res))"
   ]
  },
  {
   "cell_type": "code",
   "execution_count": null,
   "id": "bef4731e-3550-4eca-a7a2-5966e8197bd1",
   "metadata": {},
   "outputs": [],
   "source": [
    "s = 'test.zip.zyz'\n",
    "s = s[:s.index('.zip')+7]\n",
    "print(s)\n",
    "\n",
    "import re\n",
    "s = re.match(r'^.*?\\.zip', s).group(0)\n",
    "print(s)"
   ]
  },
  {
   "cell_type": "code",
   "execution_count": null,
   "id": "7943a058-4b25-4a18-a128-eb591dec1be0",
   "metadata": {},
   "outputs": [],
   "source": [
    "#a = \"https://fr.linkedin.com/in/karinedisdiermikus/en\"\n",
    "a = \"https://fr.linkedin.com/in/aur%C3%A9lie-souce-savary-8274b8105\"\n",
    "\n",
    "\n",
    "nb = a.count('/')\n",
    "print(nb)\n",
    "\n",
    "if nb ==4 or nb <4:\n",
    "    print(\"less than 4\")\n",
    "    b = \"/\".join(a.split(\"/\")[:5])\n",
    "    b = b + \"/\"\n",
    "    print(b)\n",
    "    \n",
    "else:\n",
    "    print(\"five or more /\")\n",
    "    b = \"/\".join(a.split(\"/\")[:5])\n",
    "    b = b + \"/\"\n",
    "    print(b)\n",
    "\n",
    "# count nb of \"/\"\n",
    "    # if 5, remove everything after it\n",
    "    # need to re-add the last \"/\"\n",
    "    \n",
    "    # if <5\n",
    "        # add \"/\" to string\n",
    "    \n",
    "#\".\".join(a.split(\".\")[:3])\n",
    "\n",
    "#################@\n",
    "\n",
    "#b = \"/\".join(a.split(\"/\")[:5])\n",
    "\n"
   ]
  },
  {
   "cell_type": "code",
   "execution_count": null,
   "id": "3ef046f2-2de3-47e9-98d5-e49e3a7722d6",
   "metadata": {},
   "outputs": [],
   "source": [
    "test = \"not set2\"\n",
    "\n",
    "if (test) and (test != \"not set\"):\n",
    "    print(\"run\")\n",
    "else:\n",
    "    print(\"don't run\")"
   ]
  },
  {
   "cell_type": "code",
   "execution_count": null,
   "id": "9067207c-2e2f-4d9c-a6d2-2db36520df30",
   "metadata": {},
   "outputs": [],
   "source": [
    "from addStrapi import *\n",
    "from searchStrapiApi import *\n",
    "from updateStrapi import *"
   ]
  },
  {
   "cell_type": "code",
   "execution_count": null,
   "id": "cf4c20f8-a81e-4d3a-abb8-52d077361317",
   "metadata": {},
   "outputs": [],
   "source": [
    "testUrl = \"towns\"\n",
    "query = \"?_where[parentcity]=\"\n",
    "searchVal = \"Paris\"\n",
    "testTrigger = strapiApi(testUrl, query, searchVal)\n",
    "allTowns = []\n",
    "\n",
    "for record_variables in testTrigger:\n",
    "\n",
    "    if 'townname' in record_variables:\n",
    "    # list_variables.append(test_variables[0][record_variables])\n",
    "        allTowns.append(record_variables['townname'])\n",
    "    # print(\"printing each SEARCH VARIABLE item\")\n",
    "    #print(list_variables)\n",
    "\n",
    "\n",
    "            \n",
    "    else:\n",
    "        print(\"don't run\")"
   ]
  },
  {
   "cell_type": "code",
   "execution_count": null,
   "id": "9f12cc58-0467-44bf-9a0a-6b5cbfbc212d",
   "metadata": {},
   "outputs": [],
   "source": [
    "print(allTowns)"
   ]
  },
  {
   "cell_type": "code",
   "execution_count": null,
   "id": "5702a59a-e2e2-46b3-b015-1db551c84f91",
   "metadata": {},
   "outputs": [],
   "source": [
    "stageOnePoints = 4\n",
    "if (stageOnePoints == 2) or (stageOnePoints > 2):\n",
    "    print(\"enough points scored\")\n",
    "else:\n",
    "    print(\"not enough points scored\")"
   ]
  },
  {
   "cell_type": "code",
   "execution_count": null,
   "id": "58466085-db0e-42e2-89df-29bba25c4d25",
   "metadata": {},
   "outputs": [],
   "source": [
    "new_application = {}\n",
    "new_application[\"status\"] = \"Send LI queued\"\n",
    "new_application[\"job\"] = 3\n",
    "new_application[\"candidate_name\"] = \"Me\"\n",
    "new_application[\"candid\"] = \"23\"\n",
    "\n",
    "sUrl = \"applications/\"\n",
    "#\"stage\": \"to contact\",\n",
    "#\"job\":3,\n",
    "#\"status\":\"Send LI queued\",\n",
    "#\"name\":\"Me\",\n",
    "#\"candid\":\"22\"\n",
    "\n",
    "testAdd = addStrapiApi(sUrl, new_application)\n",
    "\n",
    "print(testAdd[\"id\"])"
   ]
  },
  {
   "cell_type": "code",
   "execution_count": null,
   "id": "2e7e520f-6535-482a-a6ac-b7db1fd131fb",
   "metadata": {},
   "outputs": [],
   "source": [
    "print(testAdd)"
   ]
  },
  {
   "cell_type": "code",
   "execution_count": null,
   "id": "c83b7839-3e9a-411f-8d59-b80fbe7999e2",
   "metadata": {},
   "outputs": [],
   "source": [
    "# UPDATE CANDIDATE\n",
    "\n",
    "\n",
    "# what do I want to update on candidates \n",
    "\n",
    "# Joblist - add new job id\n",
    "#{\n",
    "#  \"jobs\": [\n",
    "#    0\n",
    "#  ]\n",
    "#}\n",
    "\n",
    "# -2) Internal_points (integer)\n",
    "\n",
    "# -3) Applications (array)\n",
    "\n",
    "new_jobs = {\"jobs\": [3]}\n",
    "\n",
    "payload = {\"joblist\": new_jobs, \"internal_points\":2, \n",
    "\"applications\":[292], \"jobs\":[3]}\n",
    "\n",
    "sUrl = \"candidates/\"\n",
    "cand = \"712\"\n",
    "\n",
    "finalCandData = updateStrapiApi_PC(sUrl, cand, payload)\n",
    "print(finalCandData)"
   ]
  },
  {
   "cell_type": "code",
   "execution_count": null,
   "id": "8cda78bc-975f-4d95-82a7-91f6e4dc4a05",
   "metadata": {},
   "outputs": [],
   "source": [
    "# Update candidate, should have any jobs at this stage so just update with new job\n",
    "\n",
    "\n",
    "payload = {\"educations\": educationIds, \"work_histories\": jobIds, \n",
    "\"cand_languages\": languageIds, \"skills\":[33994]}\n",
    "\n",
    "#sUrl = \"https://strapi-1oni.onrender.com/candidates/\"\n",
    "\n",
    "sUrl = \"candidates/\"    \n",
    "\n",
    "cand = newid\n",
    "\n",
    "finalCandData = updateStrapiApi_PC(sUrl, cand, payload)"
   ]
  },
  {
   "cell_type": "code",
   "execution_count": null,
   "id": "227cd569-be4c-4591-8471-41ccbee92d0b",
   "metadata": {},
   "outputs": [],
   "source": [
    "# check if there could be confusion between 1, and 11\n",
    "\n",
    "test = []\n",
    "test.append(33)\n",
    "test.append(3)\n",
    "if 3 in test:\n",
    "    print(\"FOUND\")\n",
    "    print(test)\n",
    "else:\n",
    "    print(\"not found\")"
   ]
  },
  {
   "cell_type": "code",
   "execution_count": null,
   "id": "2971fd8d-363e-40c4-85e9-0b950302af8c",
   "metadata": {},
   "outputs": [],
   "source": [
    "print(test)"
   ]
  },
  {
   "cell_type": "code",
   "execution_count": null,
   "id": "07d5d9a9-8109-4de9-887e-ba773d55bf3d",
   "metadata": {},
   "outputs": [],
   "source": [
    "testUrl = \"control-panels\"\n",
    "    #query = \"?_where[action]=\"\n",
    "    #searchVal = \"Live\"\n",
    "query = \"?_where[id]=\"\n",
    "    # this is the search name\n",
    "searchVal = \"1\"\n",
    "\n",
    "test = strapiApi(testUrl, query, searchVal)\n",
    "\n",
    "print(test)\n",
    "\n",
    "\n",
    "        \n",
    "    "
   ]
  },
  {
   "cell_type": "code",
   "execution_count": null,
   "id": "fa8e3f52-15f6-4ed8-873f-1a8878319cc3",
   "metadata": {},
   "outputs": [],
   "source": [
    "for record in test[0]:\n",
    "    \n",
    "    if record == 'id':\n",
    "        \n",
    "        print(\"id is present\")\n",
    "        \n",
    "    if 'jobtitlepoints' in record:\n",
    "        \n",
    "        print(test[0]['jobtitlepoints'])\n",
    "        \n",
    "    if 'locationpoints' in record:\n",
    "        \n",
    "        print(test[0]['locationpoints'])\n",
    "        \n",
    "        if test[0]['locationpoints'] == None:\n",
    "            \n",
    "            print(\"no points\")"
   ]
  },
  {
   "cell_type": "code",
   "execution_count": null,
   "id": "04f3b790-d91f-4286-8626-91cfd402cca0",
   "metadata": {},
   "outputs": [],
   "source": [
    "import urllib.parse\n",
    "\n",
    "encoded_string = \"lo%C3%AFc-henriot\"\n",
    "decoded_string = urllib.parse.unquote(encoded_string)\n",
    "\n",
    "print(decoded_string)  # \"loïc-henriot\"\n"
   ]
  },
  {
   "cell_type": "code",
   "execution_count": null,
   "id": "6e9551c0-2dd5-4457-96df-fc51a4977f7b",
   "metadata": {},
   "outputs": [],
   "source": [
    "import os\n",
    "from searchStrapiApi import strapiApi\n",
    "from getControlPanel import * \n",
    "from getAllAttributes import *\n",
    "from process_listsStrapi import *\n",
    "from processSearchStrapiLatest import *"
   ]
  },
  {
   "cell_type": "code",
   "execution_count": null,
   "id": "00ab7a8d-bf8f-46a1-9787-14220c6e8512",
   "metadata": {},
   "outputs": [],
   "source": [
    "#patterns = ['(intitle:\"ESG\" \"analyst\") AND \"$Location\" $SearchTarget']\n",
    "\n",
    "#patterns = ['(intitle:\"$SearchTerm\" \"$FirmName\") AND \"$Location\" $SearchTarget']\n",
    "\n",
    "patterns = ['(intitle:\"hello\") AND \"$Location\" $SearchTarget']\n",
    "\n",
    "# process_listsStrapi(patterns, firm_list, search_target, search_term, location, language)\n",
    "\n",
    "#'$SearchTarget': list(search_target), '$FirmName': list(firm_list), '$SearchTerm': list(search_term), '$Location': list(location),\n",
    "#'$Language': list(language)#, '$exclusion': list(exclusions)\n",
    "\n",
    "search_term = ['assistant', 'Secretary', 'consultant ESG', 'consultante ESG', 'Analyste ESG', 'ESG Analyst', 'CSR Analyst', 'Analyst ESG']\n",
    "\n",
    "language = ['anglais', 'English']\n",
    "\n",
    "search_target = ['site:fr.linkedin.com/in/']\n",
    "\n",
    "firm_list = ['allen']\n",
    "\n",
    "location = ['Paris']\n",
    "\n",
    "test = process_listsStrapi(patterns, firm_list, search_target, search_term, location, language)\n",
    "\n",
    "print(test)\n",
    "\n",
    "\n"
   ]
  },
  {
   "cell_type": "code",
   "execution_count": null,
   "id": "1e6af6d2-3d26-497d-8538-074181a25a2a",
   "metadata": {},
   "outputs": [],
   "source": [
    "try:\n",
    "    a = 5\n",
    "    print(a[0])\n",
    "except:\n",
    "    print('variable a is not a list')\n",
    "    \n",
    "print(\"does this run\")"
   ]
  },
  {
   "cell_type": "code",
   "execution_count": null,
   "id": "4ab86776-e238-4ae7-b12b-7ab5908d0e7b",
   "metadata": {},
   "outputs": [],
   "source": [
    "# strapiApi(airUrl, queryString, search_val)\n",
    "testUrl = \"control-panels\"\n",
    "query = \"?_where[id]=\"\n",
    "searchVal = 3\n",
    "\n",
    "print(\"tasks.py) id sent to strapi: \", searchVal)\n",
    "\n",
    "    # get search clicked on \n",
    "goQuery = strapiApi(testUrl, query, searchVal)\n",
    "\n",
    "print(goQuery)"
   ]
  },
  {
   "cell_type": "code",
   "execution_count": null,
   "id": "5226247a-595a-4b7a-9717-561643eed5da",
   "metadata": {},
   "outputs": [],
   "source": [
    "# try list search on postgres"
   ]
  },
  {
   "cell_type": "code",
   "execution_count": null,
   "id": "33878f29-2c6c-4ab9-88ae-2f01ddb6146b",
   "metadata": {},
   "outputs": [],
   "source": [
    "#pip install psycopg2 \n",
    "import psycopg2"
   ]
  },
  {
   "cell_type": "code",
   "execution_count": null,
   "id": "838ae2af-1ab1-413a-a813-5c674164a4c5",
   "metadata": {},
   "outputs": [],
   "source": [
    "!pip install psycopg2"
   ]
  },
  {
   "cell_type": "code",
   "execution_count": null,
   "id": "67419528-178d-4560-8d0f-c4faca8900e2",
   "metadata": {},
   "outputs": [],
   "source": [
    "import psycopg2"
   ]
  },
  {
   "cell_type": "code",
   "execution_count": null,
   "id": "9a10ad23-1180-4f2c-b722-9c2bdeaa68ad",
   "metadata": {},
   "outputs": [],
   "source": [
    "!pip show psycopg2"
   ]
  },
  {
   "cell_type": "code",
   "execution_count": null,
   "id": "8acaec15-d498-4b1c-9c2b-411b9eb9afa2",
   "metadata": {},
   "outputs": [],
   "source": [
    "!pip uninstall psycopg2"
   ]
  },
  {
   "cell_type": "code",
   "execution_count": null,
   "id": "5f49dbd4-b524-4671-a550-1e4060e937f7",
   "metadata": {},
   "outputs": [],
   "source": []
  },
  {
   "cell_type": "code",
   "execution_count": 4,
   "id": "bb13cf0c-a809-4725-8e9c-e160a5016541",
   "metadata": {},
   "outputs": [],
   "source": [
    "import os"
   ]
  },
  {
   "cell_type": "code",
   "execution_count": 5,
   "id": "bbdb3514-bacf-4935-950e-76ebef8de775",
   "metadata": {},
   "outputs": [
    {
     "name": "stdout",
     "output_type": "stream",
     "text": [
      "/Users/M1/.nvm/versions/node/v14.0.0/bin:/Library/Frameworks/Python.framework/Versions/3.9/bin:/Library/Frameworks/Python.framework/Versions/3.7/bin:/anaconda3/bin:/Users/M1/Documents/strapi/venv/bin:/usr/local/bin:/usr/bin:/bin:/usr/sbin:/sbin:/Library/Apple/usr/bin\n"
     ]
    }
   ],
   "source": [
    "print(os.environ['PATH'])"
   ]
  },
  {
   "cell_type": "code",
   "execution_count": 6,
   "id": "ddf65d1d-285a-4360-b181-30106e67bb66",
   "metadata": {},
   "outputs": [],
   "source": [
    "import sys"
   ]
  },
  {
   "cell_type": "code",
   "execution_count": 7,
   "id": "bd64ca41-48d8-4c7e-88c9-e54eba5e58c9",
   "metadata": {},
   "outputs": [
    {
     "name": "stdout",
     "output_type": "stream",
     "text": [
      "['/Users/M1/Documents/strapi/flask-render/celeryflasktrial/celery', '/Library/Frameworks/Python.framework/Versions/3.9/lib/python39.zip', '/Library/Frameworks/Python.framework/Versions/3.9/lib/python3.9', '/Library/Frameworks/Python.framework/Versions/3.9/lib/python3.9/lib-dynload', '', '/Users/M1/Library/Python/3.9/lib/python/site-packages', '/Library/Frameworks/Python.framework/Versions/3.9/lib/python3.9/site-packages', '/Library/Frameworks/Python.framework/Versions/3.9/lib/python3.9/site-packages/IPython/extensions', '/Users/M1/.ipython']\n"
     ]
    }
   ],
   "source": [
    "print(sys.path)"
   ]
  },
  {
   "cell_type": "code",
   "execution_count": 8,
   "id": "d2d2d43b-d8a6-4273-8e90-0c7af58b5adf",
   "metadata": {},
   "outputs": [
    {
     "name": "stdout",
     "output_type": "stream",
     "text": [
      "Name: psycopg2\n",
      "Version: 2.9.6\n",
      "Summary: psycopg2 - Python-PostgreSQL Database Adapter\n",
      "Home-page: https://psycopg.org/\n",
      "Author: Federico Di Gregorio\n",
      "Author-email: fog@initd.org\n",
      "License: LGPL with exceptions\n",
      "Location: /Users/M1/Documents/strapi/venv/lib/python3.9/site-packages\n",
      "Requires: \n",
      "Required-by: \n"
     ]
    }
   ],
   "source": [
    "!pip show psycopg2"
   ]
  },
  {
   "cell_type": "code",
   "execution_count": 9,
   "id": "d103c0d5-9919-4388-a65e-df295779c2af",
   "metadata": {},
   "outputs": [],
   "source": [
    "sys.path.append('/Users/M1/Documents/strapi/venv/lib/python3.9/site-packages')"
   ]
  },
  {
   "cell_type": "code",
   "execution_count": null,
   "id": "b2cb839a-e175-4daa-98ae-8b97467a0fd5",
   "metadata": {},
   "outputs": [],
   "source": [
    "import psycopg2\n",
    "\n",
    "# create a list of names\n",
    "names = [\"allen\", \"john\", \"mary\"]\n",
    "\n",
    "# establish a connection to the PostgreSQL database\n",
    "conn = psycopg2.connect(database=\"your_database_name\", user=\"your_username\", password=\"your_password\", host=\"your_host\", port=\"your_port\")\n",
    "\n",
    "# create a cursor object\n",
    "cur = conn.cursor()\n",
    "\n",
    "# execute the query for each name in the list\n",
    "for name in names:\n",
    "    cur.execute(\"SELECT * FROM your_table_name WHERE column_name = %s\", (name,))\n",
    "    rows = cur.fetchall()\n",
    "    for row in rows:\n",
    "        print(row)\n",
    "\n",
    "# close the cursor and the connection\n",
    "cur.close()\n",
    "conn.close()\n"
   ]
  },
  {
   "cell_type": "code",
   "execution_count": 10,
   "id": "5cf6d844-d318-4c84-a4d9-fc98b43b995f",
   "metadata": {},
   "outputs": [],
   "source": [
    "import psycopg2"
   ]
  },
  {
   "cell_type": "code",
   "execution_count": 27,
   "id": "f8e95992-af84-4ce0-9c56-8f85854431db",
   "metadata": {},
   "outputs": [
    {
     "name": "stdout",
     "output_type": "stream",
     "text": [
      "b\"SELECT * FROM candidates WHERE optimisedsearch ILIKE ANY('%allen & overy%') AND optimisedsearch ILIKE ANY('%Assistante%')\"\n"
     ]
    },
    {
     "ename": "InvalidTextRepresentation",
     "evalue": "malformed array literal: \"%allen & overy%\"\nLINE 1: ...* FROM candidates WHERE optimisedsearch ILIKE ANY('%allen & ...\n                                                             ^\nDETAIL:  Array value must start with \"{\" or dimension information.\n",
     "output_type": "error",
     "traceback": [
      "\u001b[0;31m---------------------------------------------------------------------------\u001b[0m",
      "\u001b[0;31mInvalidTextRepresentation\u001b[0m                 Traceback (most recent call last)",
      "\u001b[0;32m<ipython-input-27-4943015f214d>\u001b[0m in \u001b[0;36m<module>\u001b[0;34m\u001b[0m\n\u001b[1;32m     45\u001b[0m         \u001b[0;31m#('%' + name + '%', '%' + jobtitle + '%',))\u001b[0m\u001b[0;34m\u001b[0m\u001b[0;34m\u001b[0m\u001b[0;34m\u001b[0m\u001b[0m\n\u001b[1;32m     46\u001b[0m \u001b[0;34m\u001b[0m\u001b[0m\n\u001b[0;32m---> 47\u001b[0;31m         cur.execute(\"SELECT * FROM candidates WHERE optimisedsearch ILIKE ANY(%s) AND optimisedsearch ILIKE ANY(%s)\", \n\u001b[0m\u001b[1;32m     48\u001b[0m         ('%' + name + '%', '%' + jobtitle + '%'))\n\u001b[1;32m     49\u001b[0m \u001b[0;34m\u001b[0m\u001b[0m\n",
      "\u001b[0;31mInvalidTextRepresentation\u001b[0m: malformed array literal: \"%allen & overy%\"\nLINE 1: ...* FROM candidates WHERE optimisedsearch ILIKE ANY('%allen & ...\n                                                             ^\nDETAIL:  Array value must start with \"{\" or dimension information.\n"
     ]
    }
   ],
   "source": [
    "conn = psycopg2.connect(database=\"strapitemp3\", user=\"strapitemp3_user\", \n",
    "                        password=\"1Fj2PhnQbb5hMCYKI4MjbaHdQ8YZ4HjK\", host=\"dpg-cgpje00u9tun42tig2i0-a.oregon-postgres.render.com\",\n",
    "                        port=\"5432\")\n",
    "\n",
    "cur = conn.cursor()\n",
    "                     \n",
    "names = [\"allen & overy\", \"DLA Piper\"]\n",
    "jobtitles = [\"Assistante\"]\n",
    "    \n",
    "# execute the query for each name in the list\n",
    "# ILIKE '%Accountant(Lux)-138%'\n",
    "\n",
    "#for name in names:\n",
    "    #cur.execute(\"SELECT name, id FROM candidates WHERE optimisedsearch ILIKE %s\", (name,))\n",
    "    \n",
    "    #cur.execute(\"SELECT * FROM your_table_name WHERE column_name1 IN %s AND column_name2 IN %s\", (tuple(names), tuple(cities)))\n",
    "\n",
    "    #cur.execute(\"SELECT * FROM candidates WHERE optimisedsearch IN %s AND optimisedsearch IN %s\", (tuple(names), tuple(jobtitles)))\n",
    "    \n",
    "#cur.execute(\"SELECT * FROM candidates WHERE LOWER(optimisedsearch) IN %s AND LOWER(optimisedsearch) IN %s\", \n",
    "#(tuple(name.lower() for name in names), tuple(jobtitle.lower() for jobtitle in jobtitles)))\n",
    "\n",
    "#query = cur.mogrify(\"SELECT * FROM candidates WHERE LOWER(optimisedsearch) IN %s AND LOWER(optimisedsearch) IN %s\", \n",
    "#(tuple(name.lower() for name in names), tuple(jobtitle.lower() for jobtitle in jobtitles)))\n",
    "\n",
    "#print(query)\n",
    "\n",
    "#cur.execute(\"SELECT * FROM candidates WHERE LOWER(optimisedsearch) IN %s AND LOWER(optimisedsearch) IN %s\", \n",
    "#(tuple(name.lower() for name in names), tuple(jobtitle.lower() for jobtitle in jobtitles)))\n",
    "\n",
    "\n",
    "#query = cur.mogrify(\"SELECT * FROM candidates WHERE optimisedsearch ILIKE ANY(%s) AND optimisedsearch ILIKE ANY(%s)\", \n",
    "#(names, jobtitles))\n",
    "\n",
    "\n",
    "SELECT name, id FROM candidates WHERE optimisedsearch ILIKE ANY(ARRAY['%allen & overy%', '%DLA Piper%']) \n",
    "AND optimisedsearch ILIKE ANY(ARRAY['%bilingue%', '%English%'])\n",
    "AND candidates.job_title ILIKE ANY(ARRAY['%assistant%', '%secretary%']) \n",
    "\n",
    "\n",
    "for name in names:\n",
    "    for jobtitle in jobtitles:\n",
    "\n",
    "        query = cur.mogrify(\"SELECT * FROM candidates WHERE optimisedsearch ILIKE ANY(%s) AND optimisedsearch ILIKE ANY(%s)\", \n",
    "                    ('%' + name + '%', '%' + jobtitle + '%',))\n",
    "\n",
    "        print(query)\n",
    "\n",
    "\n",
    "        #cur.execute(\"SELECT * FROM candidates WHERE optimisedsearch ILIKE ANY(%s) AND optimisedsearch ILIKE ANY(%s)\", \n",
    "        #('%' + name + '%', '%' + jobtitle + '%',))\n",
    "        \n",
    "        cur.execute(\"SELECT * FROM candidates WHERE optimisedsearch ILIKE ANY(%s) \n",
    "        AND optimisedsearch ILIKE ANY(%s)\", \n",
    "        ('%' + name + '%', '%' + jobtitle + '%'))\n",
    "        \n",
    "rows = cur.fetchall()\n",
    "print(rows)\n",
    "      \n",
    "\n",
    "#cur.execute(\"SELECT * FROM candidates WHERE optimisedsearch ILIKE ANY(%s) AND optimisedsearch ILIKE ANY(%s)\", \n",
    "#(names, jobtitles))\n",
    "\n",
    "\n",
    "#mogrify\n",
    "\n",
    "#query = cur.mogrify(\"SELECT * FROM your_table_name WHERE column_name1 ILIKE ANY(%s)\n",
    "#AND column_name2 ILIKE ANY(%s)\", (names, cities))\n",
    "\n",
    "\n",
    "#cur.execute(\"SELECT * FROM your_table_name WHERE LOWER(column_name1) IN %s AND LOWER(column_name2) IN %s\",\n",
    "#                (tuple(name.lower() for name in names), tuple(city.lower() for city in cities)))\n",
    "    \n",
    "    # works\n",
    "    #cur.execute(\"SELECT name, id, company FROM candidates WHERE optimisedsearch ILIKE '%\" + name + \"%'\")\n",
    "#rows = cur.fetchall()\n",
    "#print(rows)\n",
    "    #for row in rows:\n",
    "    #    print(row)\n",
    "\n",
    "# close the cursor and the connection\n",
    "cur.close()\n",
    "conn.close()                      \n",
    "                        \n",
    "                        "
   ]
  },
  {
   "cell_type": "code",
   "execution_count": 30,
   "id": "5c65ff33-95fe-4290-b517-edf1dda431ba",
   "metadata": {},
   "outputs": [
    {
     "name": "stdout",
     "output_type": "stream",
     "text": [
      "b\"SELECT * FROM candidates WHERE optimisedsearch ILIKE ANY(ARRAY['%allen & overy%','%DLA Piper%']) AND optimisedsearch ILIKE ANY(ARRAY['%Assistante%'])\"\n",
      "[('Chrystel Tanniere-Doucet', 1297), ('Carla Hemery', 44398), (' ', 10088), ('Wendy PEPPER', 3522), ('Emmanuelle Beddeleem', 17525), ('Sabrina Jebali', 4105), ('Isabelle Tetart', 17539), ('Emmanuella Dally', 44543), ('Jude Dabbas', 20965), ('Céline BartisTayau', 3583), ('Julie Garnon', 20775), ('Emilie FAUCHEUX', 17511), ('Céline Basset-Chercot', 18859), ('Alice Moreau', 33654), ('Roukia Mmadi', 28544), ('Mona Scherrer', 4027), ('Houda Oukkate', 4189), ('Pascaline LEVILAIN', 104148), ('Nadège Reymonet', 104155), ('Céline Marolle', 104348), ('Camille Saunier', 21423), ('Louise STROEBEL', 128821), ('Johanna A.', 33656), ('Karina LEON', 3799), ('Christine Cortet', 21414), ('Odile Brirard', 2109), ('Catherine BOMBOIS', 31995), ('Chloé Coquery', 32082), ('Iman Dadzie', 33630), ('Nawele Benna', 3721), (' banana test', 9985), ('Cingala Frederique', 2811), ('Nadiia Feniuk', 3263), ('Samira Conte', 128903), ('Léna Bourgeois', 20798), ('Marlène K.', 33648), ('Agathe OHAYON', 46688), ('Marine GUILCHER', 46676), ('Alison Riba Capdevilla', 49503), ('Djamila Nemer', 32045), ('agathe ohayon', 32055), ('Smahane MAGHDAOUI', 49512), ('Lara Fatimi', 49612), ('Léna Bourgeois', 20819), ('raquel chapman', 32453), ('Camille Iparraguirre', 28559), ('Boglárka Nagy', 27663), ('Maia Demorest', 2144), ('Vijaya Le Bras', 2106), ('Laetitia Mathiolon', 44642), ('Kit Chun Kaing', 1249), ('Esther, Claire-Anne CHARLES', 2120), ('Hamama Hadadi', 16449), ('Agathe Junin', 1233), ('Julie Pierret', 10889), ('Marie-Odile Louvard', 30375), ('rebecca righi', 2735), ('Clémence LOISEL', 32086), ('Géraldine ARTUR', 3273), (' ', 10155), ('Anne-Sophie Degaugue', 128895), ('Katie EUPHRASIE', 32072), ('Iman Dadzie', 33628), ('Caroline Jamart', 33613), (' ', 10126), ('Alice Moreau', 33632), ('Claire MARCEROU', 19095), ('Pauline Toudic', 47823), ('Alexandra Llorens', 1227), ('Sophie Mulet', 49502), ('Marie RAT', 1304), ('Veniza KHAN', 2102), ('Veniza KHAN', 2108), ('Solange Quessu', 2142), ('Leslie Boudriga', 3642), ('Caitlin BRITO', 8168), ('Counaradjou Souda', 2114), ('Clotilde Le Vigoureux', 49499), ('Véronique Le Lay', 1267), ('Cécilia SEBAS', 2137), ('Morgane HÉAU', 2425), ('Christel Frendo', 16458), ('Salma Hadouche', 46673), ('Enora Guénon', 45402), ('Nathalie Chehab-Coste', 3595), ('david tiberge', 4163), ('Lara Fatimi', 49491), ('Pauline Toudic', 49913), ('Céline Bartis-Tayau', 34268), ('Céline Bartis-Tayau', 33657), ('Céline Bartis-Tayau', 34258), (' ', 10057), (' Fighter2', 10014), ('Adèle Patanchon', 46694), ('Vanessa PERRETTE', 46711), ('Catherine BOMBOIS', 32039), ('Léna Bourgeois', 22201), ('Ilona Chetrit', 20780), ('Ornella D.', 28150), ('Noémi Pelsinski', 1388), ('Linda Koudia', 3797), ('sarah sandré', 49525), ('Clotilde Le Maout', 49533), ('Pauline Toudic', 49833), ('Maryam Venin', 2131), ('Elise R.', 20799), ('Céline Bartis-Tayau', 33530), ('Céline Bartis-Tayau', 33753), ('Hélène MENU', 1958), ('Tracey Potgieter', 2523), ('sarah sandré', 47528), ('Marilou Hiessler', 49535), ('tunsia Abdi,  Tunsia', 16740), ('Emma Richard', 32103), ('Ava ADAM', 8467), ('lyvia chicot', 2702), ('John Does ', 9973), ('Sabrina KHERBOUCHE', 1277), ('Majda Kouidri', 2081), ('Diane de Lanascol', 2829), ('Emmanuella Daly', 17570), ('Florence Brette-Sinanna', 32785), (' Fighter1', 9994), ('Marilou Morales', 1449), ('Constance Calmé', 16631), ('Bénédicte Le Bayon', 1278), ('Mariangela Macocco', 2028), ('Ariane Michel', 35421), ('Priscilla Piller', 1928), ('Jackie Broquet', 3668), ('Sarah Levy Szwarc', 3127), ('Sandrine Le Naour', 16483), ('Léna Bourgeois', 22202), ('Dounia Sobhi', 2664), ('Carine P.', 3480), ('Céline Bartis-Tayau', 33512), ('Anne-Sophie Degaugue', 20785), ('Olouman Armandine', 2105), ('Pascale TISSET', 35426), ('Djamila Nemer', 32001), ('Fanny Dubois', 2080), ('Clarisse Allouis', 28546), ('Anne Sengchanh', 20793), (\"Kate O'Donovan\", 9980), ('Elodie Miliani', 2154), ('Agnès Moreau', 105173), ('Aleksandra Czarniecka', 105374), (' ', 10062), ('Milka Jevic', 3874), ('Carole Camia ', 3875), ('Elodie Gomes', 30029), ('Sabrina Acoca Mazaltarim', 33638), ('Emilie Lerminet', 33662), ('Chantal Pacifico', 2145), ('Thanh Lasowy', 1250), ('Céline Bartis-Tayau', 33677)]\n"
     ]
    }
   ],
   "source": [
    "# WORKS - 21/04\n",
    "\n",
    "\n",
    "conn = psycopg2.connect(database=\"strapitemp3\", user=\"strapitemp3_user\", \n",
    "                        password=\"1Fj2PhnQbb5hMCYKI4MjbaHdQ8YZ4HjK\", host=\"dpg-cgpje00u9tun42tig2i0-a.oregon-postgres.render.com\",\n",
    "                        port=\"5432\")\n",
    "\n",
    "cur = conn.cursor()\n",
    "                     \n",
    "names = [\"%allen & overy%\", \"%DLA Piper%\"]\n",
    "jobtitles = [\"%Assistante%\"]\n",
    "\n",
    "\n",
    "#SELECT name, id FROM candidates WHERE optimisedsearch ILIKE ANY(ARRAY['%allen & overy%', '%DLA Piper%']) \n",
    "#AND optimisedsearch ILIKE ANY(ARRAY['%bilingue%', '%English%'])\n",
    "#AND candidates.job_title ILIKE ANY(ARRAY['%assistant%', '%secretary%']) \n",
    "\n",
    "\n",
    "query = cur.mogrify(\"SELECT * FROM candidates WHERE optimisedsearch ILIKE ANY(%s) AND optimisedsearch ILIKE ANY(%s)\", (names, jobtitles))\n",
    "\n",
    "print(query)\n",
    "\n",
    "\n",
    "        #cur.execute(\"SELECT * FROM candidates WHERE optimisedsearch ILIKE ANY(%s) AND optimisedsearch ILIKE ANY(%s)\", \n",
    "        #('%' + name + '%', '%' + jobtitle + '%',))\n",
    "        \n",
    "cur.execute(\"SELECT name, id FROM candidates WHERE optimisedsearch ILIKE ANY(%s) AND optimisedsearch ILIKE ANY(%s)\", (names, jobtitles))\n",
    "        \n",
    "rows = cur.fetchall()\n",
    "print(rows)\n",
    "      \n",
    "\n",
    "# close the cursor and the connection\n",
    "cur.close()\n",
    "conn.close()                      \n",
    "                        \n",
    "                        "
   ]
  },
  {
   "cell_type": "code",
   "execution_count": null,
   "id": "61933da3-546b-4b14-b6d3-511418ac0417",
   "metadata": {},
   "outputs": [],
   "source": []
  }
 ],
 "metadata": {
  "kernelspec": {
   "display_name": "Python 3",
   "language": "python",
   "name": "python3"
  },
  "language_info": {
   "codemirror_mode": {
    "name": "ipython",
    "version": 3
   },
   "file_extension": ".py",
   "mimetype": "text/x-python",
   "name": "python",
   "nbconvert_exporter": "python",
   "pygments_lexer": "ipython3",
   "version": "3.9.5"
  }
 },
 "nbformat": 4,
 "nbformat_minor": 5
}
